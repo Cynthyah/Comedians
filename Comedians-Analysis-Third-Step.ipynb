{
 "cells": [
  {
   "cell_type": "markdown",
   "metadata": {},
   "source": [
    "# NLP Techniques\n",
    "## Input -> clean data, check if the data makes sense\n",
    "## NLP Techniques -> specifically designed for text data\n",
    "## Output -> plot can help to check if we have what we are looking for"
   ]
  },
  {
   "cell_type": "markdown",
   "metadata": {},
   "source": [
    "### 1) Sentiment Analysis\n",
    "### We use the Corpus(original text) to have all words\n",
    "### We use TextBlob (nltk)\n",
    "### We use Naive Bayes (statistical methods)"
   ]
  },
  {
   "cell_type": "code",
   "execution_count": 7,
   "metadata": {},
   "outputs": [
    {
     "data": {
      "text/plain": [
       "Sentiment(polarity=-0.4, subjectivity=0.75)"
      ]
     },
     "execution_count": 7,
     "metadata": {},
     "output_type": "execute_result"
    }
   ],
   "source": [
    "#                   Polarity                                        Subjectivity\n",
    "#   -1(Negative) <----------->(Positive)+1      0(Objective-fact)<---------------->(Subjective-Opion+1)\n",
    "\n",
    "\n",
    "\n",
    "from textblob import TextBlob\n",
    "TextBlob(\"I love Python\").sentiment\n",
    "TextBlob(\"great\").sentiment # it took the average of the word great\n",
    "TextBlob(\"not great\").sentiment # generally when the word not is infront of word it is Negative"
   ]
  },
  {
   "cell_type": "code",
   "execution_count": 8,
   "metadata": {},
   "outputs": [
    {
     "data": {
      "text/html": [
       "<div>\n",
       "<style scoped>\n",
       "    .dataframe tbody tr th:only-of-type {\n",
       "        vertical-align: middle;\n",
       "    }\n",
       "\n",
       "    .dataframe tbody tr th {\n",
       "        vertical-align: top;\n",
       "    }\n",
       "\n",
       "    .dataframe thead th {\n",
       "        text-align: right;\n",
       "    }\n",
       "</style>\n",
       "<table border=\"1\" class=\"dataframe\">\n",
       "  <thead>\n",
       "    <tr style=\"text-align: right;\">\n",
       "      <th></th>\n",
       "      <th>transcript</th>\n",
       "      <th>Polarity</th>\n",
       "      <th>Subjectivity</th>\n",
       "    </tr>\n",
       "  </thead>\n",
       "  <tbody>\n",
       "    <tr>\n",
       "      <th>Ali</th>\n",
       "      <td>Ladies and gentlemen, please welcome to the st...</td>\n",
       "      <td>0.073419</td>\n",
       "      <td>0.491160</td>\n",
       "    </tr>\n",
       "    <tr>\n",
       "      <th>Dave</th>\n",
       "      <td>Original air date: November 07, 2020     [Anno...</td>\n",
       "      <td>0.072256</td>\n",
       "      <td>0.508197</td>\n",
       "    </tr>\n",
       "    <tr>\n",
       "      <th>Ronny</th>\n",
       "      <td>[“The Evening Primrose (Ye Lai Xiang)” by Li X...</td>\n",
       "      <td>0.111781</td>\n",
       "      <td>0.468166</td>\n",
       "    </tr>\n",
       "    <tr>\n",
       "      <th>Russel</th>\n",
       "      <td>[TYPING] [CHEERING] NARRATOR: Ladies and gentl...</td>\n",
       "      <td>0.040647</td>\n",
       "      <td>0.521445</td>\n",
       "    </tr>\n",
       "  </tbody>\n",
       "</table>\n",
       "</div>"
      ],
      "text/plain": [
       "                                               transcript  Polarity  \\\n",
       "Ali     Ladies and gentlemen, please welcome to the st...  0.073419   \n",
       "Dave    Original air date: November 07, 2020     [Anno...  0.072256   \n",
       "Ronny   [“The Evening Primrose (Ye Lai Xiang)” by Li X...  0.111781   \n",
       "Russel  [TYPING] [CHEERING] NARRATOR: Ladies and gentl...  0.040647   \n",
       "\n",
       "        Subjectivity  \n",
       "Ali         0.491160  \n",
       "Dave        0.508197  \n",
       "Ronny       0.468166  \n",
       "Russel      0.521445  "
      ]
     },
     "execution_count": 8,
     "metadata": {},
     "output_type": "execute_result"
    }
   ],
   "source": [
    "import pandas as pd\n",
    "data = pd.read_pickle('files\\\\corpus.pkl')\n",
    "#df_data_clean['transcript']['Dave']\n",
    "pol = lambda x: TextBlob(x).sentiment.polarity\n",
    "sub = lambda x: TextBlob(x).sentiment.subjectivity\n",
    "\n",
    "data['Polarity'] = data['transcript'].apply(pol)\n",
    "data['Subjectivity'] = data['transcript'].apply(sub)\n",
    "data\n",
    "        "
   ]
  },
  {
   "cell_type": "code",
   "execution_count": 9,
   "metadata": {},
   "outputs": [
    {
     "data": {
      "text/plain": [
       "Text(0, 0.5, 'Fact <----------->Opion\\nSubjectivity')"
      ]
     },
     "execution_count": 9,
     "metadata": {},
     "output_type": "execute_result"
    },
    {
     "data": {
      "image/png": "[encoded data removed]",
      "text/plain": [
       "<Figure size 720x576 with 1 Axes>"
      ]
     },
     "metadata": {
      "needs_background": "light"
     },
     "output_type": "display_data"
    }
   ],
   "source": [
    "# Lets plot the results\n",
    "import matplotlib.pyplot as plt\n",
    "\n",
    "plt.figure(figsize=(10,8))\n",
    "for comedian in data.index:\n",
    "    x =  data['Polarity'][comedian]\n",
    "    y = data['Subjectivity'][comedian]\n",
    "    plt.text(x+.001,y+.001, comedian, fontsize=8)\n",
    "    plt.xlim(-.001,.12)\n",
    "    plt.scatter(x,y)\n",
    "plt.xlabel(f\"Negative <-----------> Positive\\nPolarity\")\n",
    "plt.ylabel(f\"Fact <----------->Opion\\nSubjectivity\")"
   ]
  },
  {
   "cell_type": "markdown",
   "metadata": {},
   "source": [
    "### 2) Topic Modeling\n",
    "### We use the Document-Term Matrix(words) the order does not matter\n",
    "### We use gensim\n",
    "### We use Latent Dirichlet Allocation(LDA) L(hidden), D(type of probability distribution)\n",
    "### We use nltk for some parts of speech tagging"
   ]
  },
  {
   "cell_type": "markdown",
   "metadata": {},
   "source": [
    "#### Example\n",
    "#### I like bananas and oranges             Topic A - 100%\n",
    "#### Frogs and fish live in ponds           Topic B - 100%\n",
    "#### Kittens and puppies are fluffy         Topic B - 100%\n",
    "#### I had spinach and apple smothie        Topic A - 100%\n",
    "#### My kitten loves kale                   Topic A -  60% and Topic B - 40% \n",
    "\n",
    "#### Topic A-> 40% banana, 30% kale, 10% breakfast...       Food\n",
    "#### TOpic B-> 30% kitten, 20% puppy, 10% frog, 5% cute...  Animal"
   ]
  },
  {
   "cell_type": "markdown",
   "metadata": {},
   "source": [
    "#### Every document is a mix of Topics\n",
    "#### Every topic is a mix of words"
   ]
  },
  {
   "cell_type": "code",
   "execution_count": 10,
   "metadata": {},
   "outputs": [
    {
     "data": {
      "text/html": [
       "<div>\n",
       "<style scoped>\n",
       "    .dataframe tbody tr th:only-of-type {\n",
       "        vertical-align: middle;\n",
       "    }\n",
       "\n",
       "    .dataframe tbody tr th {\n",
       "        vertical-align: top;\n",
       "    }\n",
       "\n",
       "    .dataframe thead th {\n",
       "        text-align: right;\n",
       "    }\n",
       "</style>\n",
       "<table border=\"1\" class=\"dataframe\">\n",
       "  <thead>\n",
       "    <tr style=\"text-align: right;\">\n",
       "      <th></th>\n",
       "      <th>able</th>\n",
       "      <th>absolutely</th>\n",
       "      <th>absorb</th>\n",
       "      <th>abuela</th>\n",
       "      <th>abundance</th>\n",
       "      <th>abuse</th>\n",
       "      <th>accent</th>\n",
       "      <th>accept</th>\n",
       "      <th>acceptable</th>\n",
       "      <th>access</th>\n",
       "      <th>...</th>\n",
       "      <th>york</th>\n",
       "      <th>young</th>\n",
       "      <th>younger</th>\n",
       "      <th>zero</th>\n",
       "      <th>zhong</th>\n",
       "      <th>zipped</th>\n",
       "      <th>zodiac</th>\n",
       "      <th>zone</th>\n",
       "      <th>zones</th>\n",
       "      <th>zoom</th>\n",
       "    </tr>\n",
       "  </thead>\n",
       "  <tbody>\n",
       "    <tr>\n",
       "      <th>Ali</th>\n",
       "      <td>0</td>\n",
       "      <td>0</td>\n",
       "      <td>1</td>\n",
       "      <td>1</td>\n",
       "      <td>0</td>\n",
       "      <td>0</td>\n",
       "      <td>0</td>\n",
       "      <td>1</td>\n",
       "      <td>1</td>\n",
       "      <td>0</td>\n",
       "      <td>...</td>\n",
       "      <td>0</td>\n",
       "      <td>3</td>\n",
       "      <td>1</td>\n",
       "      <td>2</td>\n",
       "      <td>0</td>\n",
       "      <td>0</td>\n",
       "      <td>0</td>\n",
       "      <td>1</td>\n",
       "      <td>0</td>\n",
       "      <td>0</td>\n",
       "    </tr>\n",
       "    <tr>\n",
       "      <th>Dave</th>\n",
       "      <td>0</td>\n",
       "      <td>0</td>\n",
       "      <td>0</td>\n",
       "      <td>0</td>\n",
       "      <td>0</td>\n",
       "      <td>0</td>\n",
       "      <td>2</td>\n",
       "      <td>0</td>\n",
       "      <td>0</td>\n",
       "      <td>0</td>\n",
       "      <td>...</td>\n",
       "      <td>2</td>\n",
       "      <td>2</td>\n",
       "      <td>0</td>\n",
       "      <td>0</td>\n",
       "      <td>0</td>\n",
       "      <td>0</td>\n",
       "      <td>0</td>\n",
       "      <td>0</td>\n",
       "      <td>0</td>\n",
       "      <td>2</td>\n",
       "    </tr>\n",
       "    <tr>\n",
       "      <th>Ronny</th>\n",
       "      <td>0</td>\n",
       "      <td>0</td>\n",
       "      <td>0</td>\n",
       "      <td>0</td>\n",
       "      <td>3</td>\n",
       "      <td>0</td>\n",
       "      <td>0</td>\n",
       "      <td>1</td>\n",
       "      <td>0</td>\n",
       "      <td>0</td>\n",
       "      <td>...</td>\n",
       "      <td>22</td>\n",
       "      <td>0</td>\n",
       "      <td>0</td>\n",
       "      <td>1</td>\n",
       "      <td>1</td>\n",
       "      <td>1</td>\n",
       "      <td>0</td>\n",
       "      <td>1</td>\n",
       "      <td>1</td>\n",
       "      <td>0</td>\n",
       "    </tr>\n",
       "    <tr>\n",
       "      <th>Russel</th>\n",
       "      <td>4</td>\n",
       "      <td>1</td>\n",
       "      <td>0</td>\n",
       "      <td>0</td>\n",
       "      <td>0</td>\n",
       "      <td>1</td>\n",
       "      <td>0</td>\n",
       "      <td>1</td>\n",
       "      <td>0</td>\n",
       "      <td>1</td>\n",
       "      <td>...</td>\n",
       "      <td>0</td>\n",
       "      <td>1</td>\n",
       "      <td>2</td>\n",
       "      <td>0</td>\n",
       "      <td>0</td>\n",
       "      <td>0</td>\n",
       "      <td>1</td>\n",
       "      <td>0</td>\n",
       "      <td>0</td>\n",
       "      <td>0</td>\n",
       "    </tr>\n",
       "  </tbody>\n",
       "</table>\n",
       "<p>4 rows × 3151 columns</p>\n",
       "</div>"
      ],
      "text/plain": [
       "        able  absolutely  absorb  abuela  abundance  abuse  accent  accept  \\\n",
       "Ali        0           0       1       1          0      0       0       1   \n",
       "Dave       0           0       0       0          0      0       2       0   \n",
       "Ronny      0           0       0       0          3      0       0       1   \n",
       "Russel     4           1       0       0          0      1       0       1   \n",
       "\n",
       "        acceptable  access  ...  york  young  younger  zero  zhong  zipped  \\\n",
       "Ali              1       0  ...     0      3        1     2      0       0   \n",
       "Dave             0       0  ...     2      2        0     0      0       0   \n",
       "Ronny            0       0  ...    22      0        0     1      1       1   \n",
       "Russel           0       1  ...     0      1        2     0      0       0   \n",
       "\n",
       "        zodiac  zone  zones  zoom  \n",
       "Ali          0     1      0     0  \n",
       "Dave         0     0      0     2  \n",
       "Ronny        0     1      1     0  \n",
       "Russel       1     0      0     0  \n",
       "\n",
       "[4 rows x 3151 columns]"
      ]
     },
     "execution_count": 10,
     "metadata": {},
     "output_type": "execute_result"
    }
   ],
   "source": [
    "# Using gensin to do all the work behind the separation of topic and words\n",
    "# We need to inform the document-term matrix, number of topics and number of iterations\n",
    "data = pd.read_pickle('files\\\\dtm_stop.pkl')\n",
    "data"
   ]
  },
  {
   "cell_type": "code",
   "execution_count": 11,
   "metadata": {},
   "outputs": [
    {
     "data": {
      "text/html": [
       "<div>\n",
       "<style scoped>\n",
       "    .dataframe tbody tr th:only-of-type {\n",
       "        vertical-align: middle;\n",
       "    }\n",
       "\n",
       "    .dataframe tbody tr th {\n",
       "        vertical-align: top;\n",
       "    }\n",
       "\n",
       "    .dataframe thead th {\n",
       "        text-align: right;\n",
       "    }\n",
       "</style>\n",
       "<table border=\"1\" class=\"dataframe\">\n",
       "  <thead>\n",
       "    <tr style=\"text-align: right;\">\n",
       "      <th></th>\n",
       "      <th>Ali</th>\n",
       "      <th>Dave</th>\n",
       "      <th>Ronny</th>\n",
       "      <th>Russel</th>\n",
       "    </tr>\n",
       "  </thead>\n",
       "  <tbody>\n",
       "    <tr>\n",
       "      <th>able</th>\n",
       "      <td>0</td>\n",
       "      <td>0</td>\n",
       "      <td>0</td>\n",
       "      <td>4</td>\n",
       "    </tr>\n",
       "    <tr>\n",
       "      <th>absolutely</th>\n",
       "      <td>0</td>\n",
       "      <td>0</td>\n",
       "      <td>0</td>\n",
       "      <td>1</td>\n",
       "    </tr>\n",
       "    <tr>\n",
       "      <th>absorb</th>\n",
       "      <td>1</td>\n",
       "      <td>0</td>\n",
       "      <td>0</td>\n",
       "      <td>0</td>\n",
       "    </tr>\n",
       "    <tr>\n",
       "      <th>abuela</th>\n",
       "      <td>1</td>\n",
       "      <td>0</td>\n",
       "      <td>0</td>\n",
       "      <td>0</td>\n",
       "    </tr>\n",
       "    <tr>\n",
       "      <th>abundance</th>\n",
       "      <td>0</td>\n",
       "      <td>0</td>\n",
       "      <td>3</td>\n",
       "      <td>0</td>\n",
       "    </tr>\n",
       "  </tbody>\n",
       "</table>\n",
       "</div>"
      ],
      "text/plain": [
       "            Ali  Dave  Ronny  Russel\n",
       "able          0     0      0       4\n",
       "absolutely    0     0      0       1\n",
       "absorb        1     0      0       0\n",
       "abuela        1     0      0       0\n",
       "abundance     0     0      3       0"
      ]
     },
     "execution_count": 11,
     "metadata": {},
     "output_type": "execute_result"
    }
   ],
   "source": [
    "# to use gensim first install -> conda install -c conda-forge gensim\n",
    "from gensim import matutils, models\n",
    "import scipy.sparse\n",
    "tdm = data.transpose()\n",
    "tdm.head()"
   ]
  },
  {
   "cell_type": "code",
   "execution_count": 12,
   "metadata": {},
   "outputs": [
    {
     "data": {
      "text/plain": [
       "<gensim.matutils.Sparse2Corpus at 0x1bfe07b3688>"
      ]
     },
     "execution_count": 12,
     "metadata": {},
     "output_type": "execute_result"
    }
   ],
   "source": [
    "# we need to put the document-term matrix into a new gensim format\n",
    "# from df -> sparse matrix\n",
    "sparse_counts = scipy.sparse.csr_matrix(tdm)\n",
    "corpus = matutils.Sparse2Corpus(sparse_counts)\n",
    "corpus"
   ]
  },
  {
   "cell_type": "code",
   "execution_count": 14,
   "metadata": {},
   "outputs": [],
   "source": [
    "# gensim requires dictionary of the all terms and theirs respective location in the term-document matrix\n",
    "import pickle\n",
    "\n",
    "cv = pickle.load(open(\"files\\\\cv_stop.pkl\",\"rb\"))\n",
    "id2word = dict((v,k) for k, v in cv.vocabulary_.items())"
   ]
  },
  {
   "cell_type": "markdown",
   "metadata": {},
   "source": [
    "# Attempt #1 - Topics in generall"
   ]
  },
  {
   "cell_type": "code",
   "execution_count": 15,
   "metadata": {},
   "outputs": [
    {
     "data": {
      "text/plain": [
       "[(0,\n",
       "  '0.001*\"goes\" + 0.000*\"baby\" + 0.000*\"black\" + 0.000*\"think\" + 0.000*\"indian\" + 0.000*\"tell\" + 0.000*\"white\" + 0.000*\"fucking\" + 0.000*\"need\" + 0.000*\"make\"'),\n",
       " (1,\n",
       "  '0.000*\"black\" + 0.000*\"goes\" + 0.000*\"way\" + 0.000*\"white\" + 0.000*\"america\" + 0.000*\"think\" + 0.000*\"ll\" + 0.000*\"ve\" + 0.000*\"need\" + 0.000*\"guy\"'),\n",
       " (2,\n",
       "  '0.012*\"black\" + 0.009*\"remember\" + 0.008*\"white\" + 0.007*\"guy\" + 0.007*\"life\" + 0.007*\"mask\" + 0.006*\"way\" + 0.006*\"helicopter\" + 0.006*\"coronavirus\" + 0.005*\"ve\"'),\n",
       " (3,\n",
       "  '0.008*\"goes\" + 0.006*\"fucking\" + 0.005*\"indian\" + 0.005*\"america\" + 0.005*\"need\" + 0.004*\"baby\" + 0.004*\"way\" + 0.004*\"think\" + 0.004*\"ll\" + 0.004*\"make\"')]"
      ]
     },
     "execution_count": 15,
     "metadata": {},
     "output_type": "execute_result"
    }
   ],
   "source": [
    "# now we need to specify 2 other parameters as well\n",
    "# the number of topics and the number of passes\n",
    "lda = models.LdaModel(corpus=corpus, id2word=id2word, num_topics=4, passes=10)\n",
    "lda.print_topics()"
   ]
  },
  {
   "cell_type": "markdown",
   "metadata": {},
   "source": [
    "# Attempt #2 - Only Nouns"
   ]
  },
  {
   "cell_type": "code",
   "execution_count": 16,
   "metadata": {},
   "outputs": [],
   "source": [
    "# create a function to pull out nouns from a string of text\n",
    "from nltk import word_tokenize, pos_tag\n",
    "\n",
    "def nouns(text):\n",
    "    '''Give a string of text, tokenize the text and pull out only the nouns'''\n",
    "    is_noun = lambda pos:pos[:2] == \"NN\"\n",
    "    tokenized = word_tokenize(text)\n",
    "    all_nouns = [word for word,pos in pos_tag(tokenized) if is_noun(pos)]\n",
    "    return ' '.join(all_nouns)"
   ]
  },
  {
   "cell_type": "code",
   "execution_count": 18,
   "metadata": {},
   "outputs": [
    {
     "data": {
      "text/html": [
       "<div>\n",
       "<style scoped>\n",
       "    .dataframe tbody tr th:only-of-type {\n",
       "        vertical-align: middle;\n",
       "    }\n",
       "\n",
       "    .dataframe tbody tr th {\n",
       "        vertical-align: top;\n",
       "    }\n",
       "\n",
       "    .dataframe thead th {\n",
       "        text-align: right;\n",
       "    }\n",
       "</style>\n",
       "<table border=\"1\" class=\"dataframe\">\n",
       "  <thead>\n",
       "    <tr style=\"text-align: right;\">\n",
       "      <th></th>\n",
       "      <th>transcript</th>\n",
       "      <th>fullname</th>\n",
       "    </tr>\n",
       "  </thead>\n",
       "  <tbody>\n",
       "    <tr>\n",
       "      <th>Ali</th>\n",
       "      <td>ladies and gentlemen please welcome to the sta...</td>\n",
       "      <td>Ali Wong</td>\n",
       "    </tr>\n",
       "    <tr>\n",
       "      <th>Dave</th>\n",
       "      <td>original air date november        ladies and g...</td>\n",
       "      <td>Dave Johns</td>\n",
       "    </tr>\n",
       "    <tr>\n",
       "      <th>Ronny</th>\n",
       "      <td>ladies and gentlemen ronny chieng   thank ...</td>\n",
       "      <td>Ronny Belford</td>\n",
       "    </tr>\n",
       "    <tr>\n",
       "      <th>Russel</th>\n",
       "      <td>narrator ladies and gentlemen it’s start tim...</td>\n",
       "      <td>Russel Raise</td>\n",
       "    </tr>\n",
       "  </tbody>\n",
       "</table>\n",
       "</div>"
      ],
      "text/plain": [
       "                                               transcript       fullname\n",
       "Ali     ladies and gentlemen please welcome to the sta...       Ali Wong\n",
       "Dave    original air date november        ladies and g...     Dave Johns\n",
       "Ronny       ladies and gentlemen ronny chieng   thank ...  Ronny Belford\n",
       "Russel    narrator ladies and gentlemen it’s start tim...   Russel Raise"
      ]
     },
     "execution_count": 18,
     "metadata": {},
     "output_type": "execute_result"
    }
   ],
   "source": [
    "# read the cleaned data, before the CounterVectorizer step\n",
    "data_clean = pd.read_pickle('files\\\\data_clean.pkl')\n",
    "data_clean"
   ]
  },
  {
   "cell_type": "code",
   "execution_count": 19,
   "metadata": {},
   "outputs": [
    {
     "data": {
      "text/html": [
       "<div>\n",
       "<style scoped>\n",
       "    .dataframe tbody tr th:only-of-type {\n",
       "        vertical-align: middle;\n",
       "    }\n",
       "\n",
       "    .dataframe tbody tr th {\n",
       "        vertical-align: top;\n",
       "    }\n",
       "\n",
       "    .dataframe thead th {\n",
       "        text-align: right;\n",
       "    }\n",
       "</style>\n",
       "<table border=\"1\" class=\"dataframe\">\n",
       "  <thead>\n",
       "    <tr style=\"text-align: right;\">\n",
       "      <th></th>\n",
       "      <th>transcript</th>\n",
       "    </tr>\n",
       "  </thead>\n",
       "  <tbody>\n",
       "    <tr>\n",
       "      <th>Ali</th>\n",
       "      <td>ladies gentlemen stage ali y y ’ t gon ’ ’ osi...</td>\n",
       "    </tr>\n",
       "    <tr>\n",
       "      <th>Dave</th>\n",
       "      <td>air date november ladies gentlemen chappelle d...</td>\n",
       "    </tr>\n",
       "    <tr>\n",
       "      <th>Ronny</th>\n",
       "      <td>ladies gentlemen chieng get guys kind thank vi...</td>\n",
       "    </tr>\n",
       "    <tr>\n",
       "      <th>Russel</th>\n",
       "      <td>narrator ladies gentlemen ’ start time dome st...</td>\n",
       "    </tr>\n",
       "  </tbody>\n",
       "</table>\n",
       "</div>"
      ],
      "text/plain": [
       "                                               transcript\n",
       "Ali     ladies gentlemen stage ali y y ’ t gon ’ ’ osi...\n",
       "Dave    air date november ladies gentlemen chappelle d...\n",
       "Ronny   ladies gentlemen chieng get guys kind thank vi...\n",
       "Russel  narrator ladies gentlemen ’ start time dome st..."
      ]
     },
     "execution_count": 19,
     "metadata": {},
     "output_type": "execute_result"
    }
   ],
   "source": [
    "# apply the nouns function to the transcript to filter only nouns\n",
    "data_nouns = pd.DataFrame(data_clean.transcript.apply(nouns))\n",
    "data_nouns"
   ]
  },
  {
   "cell_type": "code",
   "execution_count": 20,
   "metadata": {},
   "outputs": [
    {
     "data": {
      "text/html": [
       "<div>\n",
       "<style scoped>\n",
       "    .dataframe tbody tr th:only-of-type {\n",
       "        vertical-align: middle;\n",
       "    }\n",
       "\n",
       "    .dataframe tbody tr th {\n",
       "        vertical-align: top;\n",
       "    }\n",
       "\n",
       "    .dataframe thead th {\n",
       "        text-align: right;\n",
       "    }\n",
       "</style>\n",
       "<table border=\"1\" class=\"dataframe\">\n",
       "  <thead>\n",
       "    <tr style=\"text-align: right;\">\n",
       "      <th></th>\n",
       "      <th>abundance</th>\n",
       "      <th>abuse</th>\n",
       "      <th>accent</th>\n",
       "      <th>access</th>\n",
       "      <th>account</th>\n",
       "      <th>accountability</th>\n",
       "      <th>accounts</th>\n",
       "      <th>ace</th>\n",
       "      <th>act</th>\n",
       "      <th>action</th>\n",
       "      <th>...</th>\n",
       "      <th>yank</th>\n",
       "      <th>yard</th>\n",
       "      <th>yards</th>\n",
       "      <th>yelp</th>\n",
       "      <th>yo</th>\n",
       "      <th>yoga</th>\n",
       "      <th>yogurt</th>\n",
       "      <th>york</th>\n",
       "      <th>zone</th>\n",
       "      <th>zoom</th>\n",
       "    </tr>\n",
       "  </thead>\n",
       "  <tbody>\n",
       "    <tr>\n",
       "      <th>Ali</th>\n",
       "      <td>0</td>\n",
       "      <td>0</td>\n",
       "      <td>0</td>\n",
       "      <td>0</td>\n",
       "      <td>3</td>\n",
       "      <td>0</td>\n",
       "      <td>0</td>\n",
       "      <td>0</td>\n",
       "      <td>0</td>\n",
       "      <td>0</td>\n",
       "      <td>...</td>\n",
       "      <td>1</td>\n",
       "      <td>0</td>\n",
       "      <td>0</td>\n",
       "      <td>0</td>\n",
       "      <td>0</td>\n",
       "      <td>1</td>\n",
       "      <td>0</td>\n",
       "      <td>0</td>\n",
       "      <td>1</td>\n",
       "      <td>0</td>\n",
       "    </tr>\n",
       "    <tr>\n",
       "      <th>Dave</th>\n",
       "      <td>0</td>\n",
       "      <td>0</td>\n",
       "      <td>2</td>\n",
       "      <td>0</td>\n",
       "      <td>2</td>\n",
       "      <td>0</td>\n",
       "      <td>2</td>\n",
       "      <td>0</td>\n",
       "      <td>0</td>\n",
       "      <td>0</td>\n",
       "      <td>...</td>\n",
       "      <td>0</td>\n",
       "      <td>2</td>\n",
       "      <td>0</td>\n",
       "      <td>0</td>\n",
       "      <td>0</td>\n",
       "      <td>0</td>\n",
       "      <td>0</td>\n",
       "      <td>2</td>\n",
       "      <td>0</td>\n",
       "      <td>2</td>\n",
       "    </tr>\n",
       "    <tr>\n",
       "      <th>Ronny</th>\n",
       "      <td>3</td>\n",
       "      <td>0</td>\n",
       "      <td>0</td>\n",
       "      <td>0</td>\n",
       "      <td>0</td>\n",
       "      <td>0</td>\n",
       "      <td>0</td>\n",
       "      <td>1</td>\n",
       "      <td>0</td>\n",
       "      <td>3</td>\n",
       "      <td>...</td>\n",
       "      <td>0</td>\n",
       "      <td>0</td>\n",
       "      <td>1</td>\n",
       "      <td>1</td>\n",
       "      <td>12</td>\n",
       "      <td>0</td>\n",
       "      <td>0</td>\n",
       "      <td>22</td>\n",
       "      <td>1</td>\n",
       "      <td>0</td>\n",
       "    </tr>\n",
       "    <tr>\n",
       "      <th>Russel</th>\n",
       "      <td>0</td>\n",
       "      <td>1</td>\n",
       "      <td>0</td>\n",
       "      <td>1</td>\n",
       "      <td>0</td>\n",
       "      <td>1</td>\n",
       "      <td>0</td>\n",
       "      <td>0</td>\n",
       "      <td>2</td>\n",
       "      <td>0</td>\n",
       "      <td>...</td>\n",
       "      <td>0</td>\n",
       "      <td>0</td>\n",
       "      <td>0</td>\n",
       "      <td>0</td>\n",
       "      <td>4</td>\n",
       "      <td>0</td>\n",
       "      <td>12</td>\n",
       "      <td>0</td>\n",
       "      <td>0</td>\n",
       "      <td>0</td>\n",
       "    </tr>\n",
       "  </tbody>\n",
       "</table>\n",
       "<p>4 rows × 1849 columns</p>\n",
       "</div>"
      ],
      "text/plain": [
       "        abundance  abuse  accent  access  account  accountability  accounts  \\\n",
       "Ali             0      0       0       0        3               0         0   \n",
       "Dave            0      0       2       0        2               0         2   \n",
       "Ronny           3      0       0       0        0               0         0   \n",
       "Russel          0      1       0       1        0               1         0   \n",
       "\n",
       "        ace  act  action  ...  yank  yard  yards  yelp  yo  yoga  yogurt  \\\n",
       "Ali       0    0       0  ...     1     0      0     0   0     1       0   \n",
       "Dave      0    0       0  ...     0     2      0     0   0     0       0   \n",
       "Ronny     1    0       3  ...     0     0      1     1  12     0       0   \n",
       "Russel    0    2       0  ...     0     0      0     0   4     0      12   \n",
       "\n",
       "        york  zone  zoom  \n",
       "Ali        0     1     0  \n",
       "Dave       2     0     2  \n",
       "Ronny     22     1     0  \n",
       "Russel     0     0     0  \n",
       "\n",
       "[4 rows x 1849 columns]"
      ]
     },
     "execution_count": 20,
     "metadata": {},
     "output_type": "execute_result"
    }
   ],
   "source": [
    "# now whe know some other stopwords related to the nouns\n",
    "# Lets update our document-term matrix with the new list of stop words\n",
    "from sklearn.feature_extraction import text\n",
    "from sklearn.feature_extraction.text import CountVectorizer\n",
    "\n",
    "# another word to stopwords\n",
    "add_stop_words = ['like','im','know','just','thats','people','youre','think','yeah','said','year','years','yes']\n",
    "\n",
    "# add new stop words\n",
    "stop_words = text.ENGLISH_STOP_WORDS.union(add_stop_words)\n",
    "\n",
    "# re-create document-term matrix\n",
    "cvn = CountVectorizer(stop_words=stop_words) # using the new stopwords\n",
    "data_cvn = cvn.fit_transform(data_nouns.transcript)  # apply into column transcript\n",
    "data_dtmn = pd.DataFrame(data_cvn.toarray(),columns=cvn.get_feature_names()) # create another df with the words and frequency\n",
    "data_dtmn.index = data_nouns.index # use the index from df \n",
    "data_dtmn"
   ]
  },
  {
   "cell_type": "code",
   "execution_count": 21,
   "metadata": {},
   "outputs": [],
   "source": [
    "# create the gensim corpus\n",
    "corpusn = matutils.Sparse2Corpus(scipy.sparse.csr_matrix(data_dtmn.transpose()))\n",
    "\n",
    "# create the vocabulary dictionary\n",
    "id2wordn = dict((v,k) for k,v in cvn.vocabulary_.items())"
   ]
  },
  {
   "cell_type": "code",
   "execution_count": 22,
   "metadata": {},
   "outputs": [
    {
     "data": {
      "text/plain": [
       "[(0,\n",
       "  '0.014*\"man\" + 0.014*\"guy\" + 0.014*\"life\" + 0.014*\"mask\" + 0.011*\"way\" + 0.011*\"coronavirus\" + 0.011*\"helicopter\" + 0.009*\"day\" + 0.008*\"time\" + 0.008*\"house\"'),\n",
       " (1,\n",
       "  '0.001*\"time\" + 0.001*\"way\" + 0.001*\"shit\" + 0.001*\"day\" + 0.001*\"baby\" + 0.001*\"man\" + 0.001*\"right\" + 0.001*\"guy\" + 0.001*\"peters\" + 0.001*\"kids\"'),\n",
       " (2,\n",
       "  '0.014*\"time\" + 0.010*\"america\" + 0.010*\"fuck\" + 0.010*\"way\" + 0.008*\"right\" + 0.007*\"wife\" + 0.007*\"parents\" + 0.007*\"shit\" + 0.007*\"train\" + 0.007*\"don\"'),\n",
       " (3,\n",
       "  '0.020*\"baby\" + 0.010*\"husband\" + 0.010*\"shit\" + 0.008*\"day\" + 0.008*\"time\" + 0.007*\"mom\" + 0.007*\"man\" + 0.007*\"lot\" + 0.006*\"pussy\" + 0.005*\"fuck\"')]"
      ]
     },
     "execution_count": 22,
     "metadata": {},
     "output_type": "execute_result"
    }
   ],
   "source": [
    "# lets start with 4 topics\n",
    "ldan = models.LdaModel(corpus=corpusn, num_topics=4, id2word=id2wordn, passes=10)\n",
    "ldan.print_topics()"
   ]
  },
  {
   "cell_type": "markdown",
   "metadata": {},
   "source": [
    "# Attempt #3 - Only Nouns/Adjectives"
   ]
  },
  {
   "cell_type": "code",
   "execution_count": 23,
   "metadata": {},
   "outputs": [],
   "source": [
    "def nouns_adj(text):\n",
    "    '''Give a string of text, tokenize the text and pull out only the nouns or adjetives'''\n",
    "    is_noun_adj = lambda pos:pos[:2] == \"NN\" or pos[:2] == \"JJ\"\n",
    "    tokenized = word_tokenize(text)\n",
    "    nouns_adj = [word for word,pos in pos_tag(tokenized) if is_noun_adj(pos)]\n",
    "    return ' '.join(nouns_adj)"
   ]
  },
  {
   "cell_type": "code",
   "execution_count": 24,
   "metadata": {},
   "outputs": [
    {
     "data": {
      "text/html": [
       "<div>\n",
       "<style scoped>\n",
       "    .dataframe tbody tr th:only-of-type {\n",
       "        vertical-align: middle;\n",
       "    }\n",
       "\n",
       "    .dataframe tbody tr th {\n",
       "        vertical-align: top;\n",
       "    }\n",
       "\n",
       "    .dataframe thead th {\n",
       "        text-align: right;\n",
       "    }\n",
       "</style>\n",
       "<table border=\"1\" class=\"dataframe\">\n",
       "  <thead>\n",
       "    <tr style=\"text-align: right;\">\n",
       "      <th></th>\n",
       "      <th>transcript</th>\n",
       "    </tr>\n",
       "  </thead>\n",
       "  <tbody>\n",
       "    <tr>\n",
       "      <th>Ali</th>\n",
       "      <td>ladies gentlemen welcome stage ali y y wasn ’ ...</td>\n",
       "    </tr>\n",
       "    <tr>\n",
       "      <th>Dave</th>\n",
       "      <td>original air date november ladies gentlemen ch...</td>\n",
       "    </tr>\n",
       "    <tr>\n",
       "      <th>Ronny</th>\n",
       "      <td>ladies gentlemen chieng ta get ta guys s kind ...</td>\n",
       "    </tr>\n",
       "    <tr>\n",
       "      <th>Russel</th>\n",
       "      <td>narrator ladies gentlemen ’ s start time dome ...</td>\n",
       "    </tr>\n",
       "  </tbody>\n",
       "</table>\n",
       "</div>"
      ],
      "text/plain": [
       "                                               transcript\n",
       "Ali     ladies gentlemen welcome stage ali y y wasn ’ ...\n",
       "Dave    original air date november ladies gentlemen ch...\n",
       "Ronny   ladies gentlemen chieng ta get ta guys s kind ...\n",
       "Russel  narrator ladies gentlemen ’ s start time dome ..."
      ]
     },
     "execution_count": 24,
     "metadata": {},
     "output_type": "execute_result"
    }
   ],
   "source": [
    "# apply the nouns function to the transcript to filter only nouns or adjetives\n",
    "data_nouns_adj = pd.DataFrame(data_clean.transcript.apply(nouns_adj))\n",
    "data_nouns_adj"
   ]
  },
  {
   "cell_type": "code",
   "execution_count": 25,
   "metadata": {},
   "outputs": [
    {
     "data": {
      "text/html": [
       "<div>\n",
       "<style scoped>\n",
       "    .dataframe tbody tr th:only-of-type {\n",
       "        vertical-align: middle;\n",
       "    }\n",
       "\n",
       "    .dataframe tbody tr th {\n",
       "        vertical-align: top;\n",
       "    }\n",
       "\n",
       "    .dataframe thead th {\n",
       "        text-align: right;\n",
       "    }\n",
       "</style>\n",
       "<table border=\"1\" class=\"dataframe\">\n",
       "  <thead>\n",
       "    <tr style=\"text-align: right;\">\n",
       "      <th></th>\n",
       "      <th>able</th>\n",
       "      <th>abuela</th>\n",
       "      <th>abundance</th>\n",
       "      <th>abuse</th>\n",
       "      <th>accent</th>\n",
       "      <th>acceptable</th>\n",
       "      <th>access</th>\n",
       "      <th>account</th>\n",
       "      <th>accountability</th>\n",
       "      <th>accounts</th>\n",
       "      <th>...</th>\n",
       "      <th>yo</th>\n",
       "      <th>yoga</th>\n",
       "      <th>yogurt</th>\n",
       "      <th>york</th>\n",
       "      <th>young</th>\n",
       "      <th>younger</th>\n",
       "      <th>zhong</th>\n",
       "      <th>zodiac</th>\n",
       "      <th>zone</th>\n",
       "      <th>zoom</th>\n",
       "    </tr>\n",
       "  </thead>\n",
       "  <tbody>\n",
       "    <tr>\n",
       "      <th>Ali</th>\n",
       "      <td>0</td>\n",
       "      <td>1</td>\n",
       "      <td>0</td>\n",
       "      <td>0</td>\n",
       "      <td>0</td>\n",
       "      <td>1</td>\n",
       "      <td>0</td>\n",
       "      <td>3</td>\n",
       "      <td>0</td>\n",
       "      <td>0</td>\n",
       "      <td>...</td>\n",
       "      <td>0</td>\n",
       "      <td>1</td>\n",
       "      <td>0</td>\n",
       "      <td>0</td>\n",
       "      <td>3</td>\n",
       "      <td>1</td>\n",
       "      <td>0</td>\n",
       "      <td>0</td>\n",
       "      <td>1</td>\n",
       "      <td>0</td>\n",
       "    </tr>\n",
       "    <tr>\n",
       "      <th>Dave</th>\n",
       "      <td>0</td>\n",
       "      <td>0</td>\n",
       "      <td>0</td>\n",
       "      <td>0</td>\n",
       "      <td>2</td>\n",
       "      <td>0</td>\n",
       "      <td>0</td>\n",
       "      <td>2</td>\n",
       "      <td>0</td>\n",
       "      <td>2</td>\n",
       "      <td>...</td>\n",
       "      <td>0</td>\n",
       "      <td>0</td>\n",
       "      <td>0</td>\n",
       "      <td>2</td>\n",
       "      <td>2</td>\n",
       "      <td>0</td>\n",
       "      <td>0</td>\n",
       "      <td>0</td>\n",
       "      <td>0</td>\n",
       "      <td>2</td>\n",
       "    </tr>\n",
       "    <tr>\n",
       "      <th>Ronny</th>\n",
       "      <td>0</td>\n",
       "      <td>0</td>\n",
       "      <td>3</td>\n",
       "      <td>0</td>\n",
       "      <td>0</td>\n",
       "      <td>0</td>\n",
       "      <td>0</td>\n",
       "      <td>0</td>\n",
       "      <td>0</td>\n",
       "      <td>0</td>\n",
       "      <td>...</td>\n",
       "      <td>13</td>\n",
       "      <td>0</td>\n",
       "      <td>0</td>\n",
       "      <td>22</td>\n",
       "      <td>0</td>\n",
       "      <td>0</td>\n",
       "      <td>1</td>\n",
       "      <td>0</td>\n",
       "      <td>1</td>\n",
       "      <td>0</td>\n",
       "    </tr>\n",
       "    <tr>\n",
       "      <th>Russel</th>\n",
       "      <td>4</td>\n",
       "      <td>0</td>\n",
       "      <td>0</td>\n",
       "      <td>1</td>\n",
       "      <td>0</td>\n",
       "      <td>0</td>\n",
       "      <td>1</td>\n",
       "      <td>0</td>\n",
       "      <td>1</td>\n",
       "      <td>0</td>\n",
       "      <td>...</td>\n",
       "      <td>4</td>\n",
       "      <td>0</td>\n",
       "      <td>12</td>\n",
       "      <td>0</td>\n",
       "      <td>1</td>\n",
       "      <td>2</td>\n",
       "      <td>0</td>\n",
       "      <td>1</td>\n",
       "      <td>0</td>\n",
       "      <td>0</td>\n",
       "    </tr>\n",
       "  </tbody>\n",
       "</table>\n",
       "<p>4 rows × 2212 columns</p>\n",
       "</div>"
      ],
      "text/plain": [
       "        able  abuela  abundance  abuse  accent  acceptable  access  account  \\\n",
       "Ali        0       1          0      0       0           1       0        3   \n",
       "Dave       0       0          0      0       2           0       0        2   \n",
       "Ronny      0       0          3      0       0           0       0        0   \n",
       "Russel     4       0          0      1       0           0       1        0   \n",
       "\n",
       "        accountability  accounts  ...  yo  yoga  yogurt  york  young  younger  \\\n",
       "Ali                  0         0  ...   0     1       0     0      3        1   \n",
       "Dave                 0         2  ...   0     0       0     2      2        0   \n",
       "Ronny                0         0  ...  13     0       0    22      0        0   \n",
       "Russel               1         0  ...   4     0      12     0      1        2   \n",
       "\n",
       "        zhong  zodiac  zone  zoom  \n",
       "Ali         0       0     1     0  \n",
       "Dave        0       0     0     2  \n",
       "Ronny       1       0     1     0  \n",
       "Russel      0       1     0     0  \n",
       "\n",
       "[4 rows x 2212 columns]"
      ]
     },
     "execution_count": 25,
     "metadata": {},
     "output_type": "execute_result"
    }
   ],
   "source": [
    "# create a new document-term matrix using only nouns and adjectives, remore common words\n",
    "# re-create document-term matrix\n",
    "cvna = CountVectorizer(stop_words=stop_words, max_df=.8) # using the new stopwords\n",
    "data_cvna = cvna.fit_transform(data_nouns_adj.transcript)  # apply into column transcript\n",
    "data_dtmna = pd.DataFrame(data_cvna.toarray(),columns=cvna.get_feature_names()) # create another df with the words and frequency\n",
    "data_dtmna.index = data_nouns_adj.index # use the index from df \n",
    "data_dtmna"
   ]
  },
  {
   "cell_type": "code",
   "execution_count": 26,
   "metadata": {},
   "outputs": [],
   "source": [
    "# create the gensim corpus\n",
    "corpusna = matutils.Sparse2Corpus(scipy.sparse.csr_matrix(data_dtmna.transpose()))\n",
    "\n",
    "# create the vocabulary dictionary\n",
    "id2wordna = dict((v,k) for k,v in cvna.vocabulary_.items())"
   ]
  },
  {
   "cell_type": "code",
   "execution_count": 27,
   "metadata": {},
   "outputs": [
    {
     "data": {
      "text/plain": [
       "[(0,\n",
       "  '0.001*\"fuck\" + 0.001*\"indian\" + 0.001*\"guy\" + 0.001*\"america\" + 0.001*\"wife\" + 0.001*\"state\" + 0.001*\"okay\" + 0.001*\"fucking\" + 0.001*\"russell\" + 0.001*\"shit\"'),\n",
       " (1,\n",
       "  '0.018*\"baby\" + 0.009*\"shit\" + 0.009*\"husband\" + 0.007*\"pussy\" + 0.007*\"mom\" + 0.006*\"dick\" + 0.005*\"fuck\" + 0.004*\"okay\" + 0.004*\"girl\" + 0.004*\"ali\"'),\n",
       " (2,\n",
       "  '0.021*\"indian\" + 0.011*\"russell\" + 0.010*\"peters\" + 0.010*\"ok\" + 0.009*\"nose\" + 0.009*\"son\" + 0.008*\"fact\" + 0.008*\"fuck\" + 0.008*\"india\" + 0.008*\"shit\"'),\n",
       " (3,\n",
       "  '0.015*\"america\" + 0.009*\"okay\" + 0.008*\"guy\" + 0.008*\"fuck\" + 0.008*\"train\" + 0.008*\"york\" + 0.008*\"wife\" + 0.008*\"state\" + 0.007*\"chinese\" + 0.007*\"asian\"')]"
      ]
     },
     "execution_count": 27,
     "metadata": {},
     "output_type": "execute_result"
    }
   ],
   "source": [
    "# lets start with 4 topics\n",
    "ldana = models.LdaModel(corpus=corpusna, num_topics=4, id2word=id2wordna, passes=10)\n",
    "ldana.print_topics()"
   ]
  },
  {
   "cell_type": "markdown",
   "metadata": {},
   "source": [
    "# Identify Topics in Each Document"
   ]
  },
  {
   "cell_type": "code",
   "execution_count": 28,
   "metadata": {},
   "outputs": [
    {
     "data": {
      "text/plain": [
       "[(0,\n",
       "  '0.001*\"fuck\" + 0.001*\"indian\" + 0.001*\"guy\" + 0.001*\"america\" + 0.001*\"wife\" + 0.001*\"state\" + 0.001*\"okay\" + 0.001*\"fucking\" + 0.001*\"russell\" + 0.001*\"shit\"'),\n",
       " (1,\n",
       "  '0.018*\"baby\" + 0.009*\"shit\" + 0.009*\"husband\" + 0.007*\"pussy\" + 0.007*\"mom\" + 0.006*\"dick\" + 0.005*\"fuck\" + 0.004*\"okay\" + 0.004*\"girl\" + 0.004*\"ali\"'),\n",
       " (2,\n",
       "  '0.021*\"indian\" + 0.011*\"russell\" + 0.010*\"peters\" + 0.010*\"ok\" + 0.009*\"nose\" + 0.009*\"son\" + 0.008*\"fact\" + 0.008*\"fuck\" + 0.008*\"india\" + 0.008*\"shit\"'),\n",
       " (3,\n",
       "  '0.015*\"america\" + 0.009*\"okay\" + 0.008*\"guy\" + 0.008*\"fuck\" + 0.008*\"train\" + 0.008*\"york\" + 0.008*\"wife\" + 0.008*\"state\" + 0.007*\"chinese\" + 0.007*\"asian\"')]"
      ]
     },
     "execution_count": 28,
     "metadata": {},
     "output_type": "execute_result"
    }
   ],
   "source": [
    "# Our final LDA model\n",
    "ldna = models.LdaModel(corpus=corpusna, num_topics=4, id2word=id2wordna, passes=80)\n",
    "ldana.print_topics()"
   ]
  },
  {
   "cell_type": "markdown",
   "metadata": {},
   "source": [
    "### Topics\n",
    "#### Topic 0: train,wife,chinese,asian\n",
    "#### Topic 1: indian, russel, asian, chinese\n",
    "#### Topic 2: coronavirus, mask, helicopter, president, meeting, cold\n",
    "#### Topic 3: indian, russel, nose, son, india"
   ]
  },
  {
   "cell_type": "code",
   "execution_count": 30,
   "metadata": {},
   "outputs": [
    {
     "data": {
      "text/plain": [
       "[(1, 'Ali'), (3, 'Dave'), (3, 'Ronny'), (2, 'Russel')]"
      ]
     },
     "execution_count": 30,
     "metadata": {},
     "output_type": "execute_result"
    }
   ],
   "source": [
    "# Now, take a look at which topic each transcript contains\n",
    "corpus_transformed = ldana[corpusna]\n",
    "list(zip([a for [(a,b)] in corpus_transformed], data_dtmna.index))"
   ]
  },
  {
   "cell_type": "markdown",
   "metadata": {},
   "source": [
    "### Topics\n",
    "#### Topic 0: train,wife,chinese,asian                                      ->Ronny\n",
    "#### Topic 1: indian, russel, asian, chinese                                ->Nobody\n",
    "#### Topic 2: coronavirus, mask, helicopter, president, meeting, cold       ->Dave\n",
    "#### Topic 3: indian, russel, nose, son, india                              ->Russel"
   ]
  }
 ],
 "metadata": {
  "kernelspec": {
   "display_name": "Python 3",
   "language": "python",
   "name": "python3"
  },
  "language_info": {
   "codemirror_mode": {
    "name": "ipython",
    "version": 3
   },
   "file_extension": ".py",
   "mimetype": "text/x-python",
   "name": "python",
   "nbconvert_exporter": "python",
   "pygments_lexer": "ipython3",
   "version": "3.7.9"
  }
 },
 "nbformat": 4,
 "nbformat_minor": 4
}
