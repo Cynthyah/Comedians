{
 "cells": [
  {
   "cell_type": "markdown",
   "metadata": {},
   "source": [
    "# Question to be explored !\n",
    "\n",
    "# *What makes Ali Wong´s comedy routine stand out ?*\n",
    "\n",
    "I decide to get information for only four american comedians to compare.\n",
    "- How it was decided to limit the scope? Stand up comedy specials from the past 5 years and at least a 7.5 rating with 2000+ votes on IMDB\n",
    "\n",
    "Source: https://scrapsfromtheloft.com/stand-up-comedy-scripts/"
   ]
  },
  {
   "cell_type": "markdown",
   "metadata": {},
   "source": [
    "# First Step - Get and Clean the Data"
   ]
  },
  {
   "cell_type": "code",
   "execution_count": 31,
   "metadata": {},
   "outputs": [
    {
     "name": "stdout",
     "output_type": "stream",
     "text": [
      "https://scrapsfromtheloft.com/2018/05/15/ali-wong-hard-knock-wife-full-transcript/\n",
      "https://scrapsfromtheloft.com/2020/11/08/dave-chappelle-snl-monologue-2020-transcript/\n",
      "https://scrapsfromtheloft.com/2020/10/10/ronny-chieng-asian-comedian-destroys-america-transcript/\n",
      "https://scrapsfromtheloft.com/2020/05/10/russell-peters-deported-transcript/\n"
     ]
    }
   ],
   "source": [
    "import requests\n",
    "from bs4 import BeautifulSoup as bs\n",
    "import pickle\n",
    "\n",
    "def url_to_transcript(url):\n",
    "    page = requests.get(url).text\n",
    "    soup = bs(page,\"lxml\")\n",
    "    text = [p.text for p in soup.find_all(\"p\")] # using F12 to find where my transcript is\n",
    "    print(url)\n",
    "    return text\n",
    "\n",
    "# select only 4 comedians\n",
    "urls = [\"https://scrapsfromtheloft.com/2018/05/15/ali-wong-hard-knock-wife-full-transcript/\",\n",
    "        \"https://scrapsfromtheloft.com/2020/11/08/dave-chappelle-snl-monologue-2020-transcript/\",\n",
    "       \"https://scrapsfromtheloft.com/2020/10/10/ronny-chieng-asian-comedian-destroys-america-transcript/\",\n",
    "       \"https://scrapsfromtheloft.com/2020/05/10/russell-peters-deported-transcript/\"]\n",
    "\n",
    "for url in urls:\n",
    "    url_to_transcript(url)"
   ]
  },
  {
   "cell_type": "code",
   "execution_count": 32,
   "metadata": {},
   "outputs": [],
   "source": [
    "# which comedian I want\n",
    "comedians = [\"Ali\",\"Dave\",\"Ronny\",\"Russel\"]"
   ]
  },
  {
   "cell_type": "code",
   "execution_count": 33,
   "metadata": {},
   "outputs": [
    {
     "name": "stdout",
     "output_type": "stream",
     "text": [
      "https://scrapsfromtheloft.com/2018/05/15/ali-wong-hard-knock-wife-full-transcript/\n",
      "https://scrapsfromtheloft.com/2020/11/08/dave-chappelle-snl-monologue-2020-transcript/\n",
      "https://scrapsfromtheloft.com/2020/10/10/ronny-chieng-asian-comedian-destroys-america-transcript/\n",
      "https://scrapsfromtheloft.com/2020/05/10/russell-peters-deported-transcript/\n"
     ]
    }
   ],
   "source": [
    "transcripts = [url_to_transcript(u) for u in urls]"
   ]
  },
  {
   "cell_type": "code",
   "execution_count": 34,
   "metadata": {},
   "outputs": [],
   "source": [
    "# make new directory to hold the text files\n",
    "for i, c in enumerate(comedians):\n",
    "    with open(\"transcripts\\\\\" + c + \".txt\",\"wb\") as file:\n",
    "        pickle.dump(transcripts[i],file)"
   ]
  },
  {
   "cell_type": "code",
   "execution_count": 35,
   "metadata": {},
   "outputs": [],
   "source": [
    "data = {}\n",
    "for i, c in enumerate(comedians):\n",
    "    with open(\"transcripts\\\\\" + c + \".txt\",\"rb\") as file:\n",
    "        data[c] = pickle.load(file)"
   ]
  },
  {
   "cell_type": "code",
   "execution_count": 36,
   "metadata": {},
   "outputs": [
    {
     "data": {
      "text/plain": [
       "['Ladies and gentlemen, please welcome to the stage Ali Wong!',\n",
       " '♪ What y’all thought Y’all wasn’t gon’ see me? ♪\\n♪ I’m the Osirus of this shit♪\\n♪ Wu-Tang is here forever, motherfuckers♪\\n♪ It’s like this ninety-seven ♪\\n♪ Aight my n i g g a s and my n i g g arettes♪\\n♪ Let’s do it like this♪\\n♪ I’ma rub your ass in the moonshine♪\\n♪ Let’s take it back to seventy-nine♪\\n♪ I bomb atomically♪\\n♪ Socrates’ philosophies and hypotheses♪\\n♪ Can’t define How I be droppin’ these mockeries♪\\n♪ Lyrically perform armed robbery ♪\\n♪ Flee with the lottery Possibly they spotted me♪\\n♪ Battle-scarred shogun♪\\n♪ Explosion when my pen hits ♪']"
      ]
     },
     "execution_count": 36,
     "metadata": {},
     "output_type": "execute_result"
    }
   ],
   "source": [
    "# just check some data\n",
    "# the key is the comedian and the values are the transcripts\n",
    "data.keys()\n",
    "data['Ali'][:2]"
   ]
  },
  {
   "cell_type": "code",
   "execution_count": 37,
   "metadata": {},
   "outputs": [],
   "source": [
    "# join all text for each key\n",
    "def combine_text(list_of_text):\n",
    "    combined_text = ' '.join(list_of_text)\n",
    "    return combined_text"
   ]
  },
  {
   "cell_type": "code",
   "execution_count": 38,
   "metadata": {},
   "outputs": [],
   "source": [
    "data_combined = {key:[combine_text(value)] for key,value in data.items()}"
   ]
  },
  {
   "cell_type": "code",
   "execution_count": 39,
   "metadata": {},
   "outputs": [
    {
     "data": {
      "text/html": [
       "<div>\n",
       "<style scoped>\n",
       "    .dataframe tbody tr th:only-of-type {\n",
       "        vertical-align: middle;\n",
       "    }\n",
       "\n",
       "    .dataframe tbody tr th {\n",
       "        vertical-align: top;\n",
       "    }\n",
       "\n",
       "    .dataframe thead th {\n",
       "        text-align: right;\n",
       "    }\n",
       "</style>\n",
       "<table border=\"1\" class=\"dataframe\">\n",
       "  <thead>\n",
       "    <tr style=\"text-align: right;\">\n",
       "      <th></th>\n",
       "      <th>transcript</th>\n",
       "    </tr>\n",
       "  </thead>\n",
       "  <tbody>\n",
       "    <tr>\n",
       "      <th>Ali</th>\n",
       "      <td>Ladies and gentlemen, please welcome to the stage Ali Wong! ♪ What y’all thought Y’all wasn’t gon’ see me? ♪\\n♪ I’m the Osirus of this shit♪\\n♪ Wu...</td>\n",
       "    </tr>\n",
       "    <tr>\n",
       "      <th>Dave</th>\n",
       "      <td>Original air date: November 07, 2020     [Announcer] Ladies and gentlemen — Dave Chappelle! [Cheers and applause] Thank you. Thank you. [Cheers an...</td>\n",
       "    </tr>\n",
       "    <tr>\n",
       "      <th>Ronny</th>\n",
       "      <td>[“The Evening Primrose (Ye Lai Xiang)” by Li Xianglan plays] [woman singing in Chinese] [audience applauds and cheers] [female host] Ladies and ge...</td>\n",
       "    </tr>\n",
       "    <tr>\n",
       "      <th>Russel</th>\n",
       "      <td>[TYPING] [CHEERING] NARRATOR: Ladies and gentlemen, it’s start time at the Dome NSCI SVP Stadium. And right about now, we’re going to bring you th...</td>\n",
       "    </tr>\n",
       "  </tbody>\n",
       "</table>\n",
       "</div>"
      ],
      "text/plain": [
       "                                                                                                                                                   transcript\n",
       "Ali     Ladies and gentlemen, please welcome to the stage Ali Wong! ♪ What y’all thought Y’all wasn’t gon’ see me? ♪\\n♪ I’m the Osirus of this shit♪\\n♪ Wu...\n",
       "Dave    Original air date: November 07, 2020     [Announcer] Ladies and gentlemen — Dave Chappelle! [Cheers and applause] Thank you. Thank you. [Cheers an...\n",
       "Ronny   [“The Evening Primrose (Ye Lai Xiang)” by Li Xianglan plays] [woman singing in Chinese] [audience applauds and cheers] [female host] Ladies and ge...\n",
       "Russel  [TYPING] [CHEERING] NARRATOR: Ladies and gentlemen, it’s start time at the Dome NSCI SVP Stadium. And right about now, we’re going to bring you th..."
      ]
     },
     "execution_count": 39,
     "metadata": {},
     "output_type": "execute_result"
    }
   ],
   "source": [
    "# we can put the dict into a dataframe\n",
    "import pandas as pd\n",
    "pd.set_option('max_colwidth', 150)\n",
    "df = pd.DataFrame(data_combined).transpose()\n",
    "# rename the column to transcript\n",
    "df.columns = ['transcript'] # corpus\n",
    "# sorted by name\n",
    "df = df.sort_index()\n",
    "df"
   ]
  },
  {
   "cell_type": "markdown",
   "metadata": {},
   "source": [
    "## Now we need to clean some text\n",
    "- make lower case\n",
    "- remove punctuation\n",
    "- remove numeric values\n",
    "- remove /n\n",
    "- tokenize text\n",
    "- remove stop words ..."
   ]
  },
  {
   "cell_type": "code",
   "execution_count": 40,
   "metadata": {},
   "outputs": [],
   "source": [
    "# use cleaning techniques - using some rounds to do\n",
    "import re\n",
    "import string\n",
    "####### Round 1\n",
    "# create a function to make lowercase, remove [], punctiation ...\n",
    "def clean_text_round1(text):\n",
    "    text = text.lower()\n",
    "    text = re.sub('\\[.*?\\]','',text) # delete all text inside [ ](sounds)\n",
    "    text = re.sub('[%s]' % re.escape(string.punctuation),'',text) # delete all punctuation\n",
    "    text = re.sub('\\w*\\d\\w*','',text) # delete all digits and digits with letters\n",
    "    return text\n",
    "round1 = lambda x: clean_text_round1(x)"
   ]
  },
  {
   "cell_type": "code",
   "execution_count": 41,
   "metadata": {},
   "outputs": [
    {
     "data": {
      "text/html": [
       "<div>\n",
       "<style scoped>\n",
       "    .dataframe tbody tr th:only-of-type {\n",
       "        vertical-align: middle;\n",
       "    }\n",
       "\n",
       "    .dataframe tbody tr th {\n",
       "        vertical-align: top;\n",
       "    }\n",
       "\n",
       "    .dataframe thead th {\n",
       "        text-align: right;\n",
       "    }\n",
       "</style>\n",
       "<table border=\"1\" class=\"dataframe\">\n",
       "  <thead>\n",
       "    <tr style=\"text-align: right;\">\n",
       "      <th></th>\n",
       "      <th>transcript</th>\n",
       "    </tr>\n",
       "  </thead>\n",
       "  <tbody>\n",
       "    <tr>\n",
       "      <th>Ali</th>\n",
       "      <td>ladies and gentlemen please welcome to the stage ali wong ♪ what y’all thought y’all wasn’t gon’ see me ♪\\n♪ i’m the osirus of this shit♪\\n♪ wutan...</td>\n",
       "    </tr>\n",
       "    <tr>\n",
       "      <th>Dave</th>\n",
       "      <td>original air date november        ladies and gentlemen — dave chappelle  thank you thank you  thank you all for being here  pretty incredible day ...</td>\n",
       "    </tr>\n",
       "    <tr>\n",
       "      <th>Ronny</th>\n",
       "      <td>ladies and gentlemen ronny chieng   thank you thank you  thank you thank you okay thank you we gotta get going we gotta get going guys thank y...</td>\n",
       "    </tr>\n",
       "    <tr>\n",
       "      <th>Russel</th>\n",
       "      <td>narrator ladies and gentlemen it’s start time at the dome nsci svp stadium and right about now we’re going to bring you the brother that gave yo...</td>\n",
       "    </tr>\n",
       "  </tbody>\n",
       "</table>\n",
       "</div>"
      ],
      "text/plain": [
       "                                                                                                                                                   transcript\n",
       "Ali     ladies and gentlemen please welcome to the stage ali wong ♪ what y’all thought y’all wasn’t gon’ see me ♪\\n♪ i’m the osirus of this shit♪\\n♪ wutan...\n",
       "Dave    original air date november        ladies and gentlemen — dave chappelle  thank you thank you  thank you all for being here  pretty incredible day ...\n",
       "Ronny       ladies and gentlemen ronny chieng   thank you thank you  thank you thank you okay thank you we gotta get going we gotta get going guys thank y...\n",
       "Russel    narrator ladies and gentlemen it’s start time at the dome nsci svp stadium and right about now we’re going to bring you the brother that gave yo..."
      ]
     },
     "execution_count": 41,
     "metadata": {},
     "output_type": "execute_result"
    }
   ],
   "source": [
    "df_data_clean = pd.DataFrame(df.transcript.apply(round1))\n",
    "df_data_clean"
   ]
  },
  {
   "cell_type": "code",
   "execution_count": 42,
   "metadata": {},
   "outputs": [],
   "source": [
    "####### Round 2\n",
    "# get rid of some punctiation and non-sensical text\n",
    "def clean_text_round2(text):\n",
    "    text = re.sub('[''\"\"...—]','',text) # delete some \"\",-,...\n",
    "    text = re.sub('\\n','',text) # blank line substitute by ''\n",
    "    text = re.sub('♪','',text) # ♪ substitute by ''\n",
    "    return text\n",
    "round2 = lambda x: clean_text_round2(x)"
   ]
  },
  {
   "cell_type": "code",
   "execution_count": 43,
   "metadata": {},
   "outputs": [
    {
     "data": {
      "text/html": [
       "<div>\n",
       "<style scoped>\n",
       "    .dataframe tbody tr th:only-of-type {\n",
       "        vertical-align: middle;\n",
       "    }\n",
       "\n",
       "    .dataframe tbody tr th {\n",
       "        vertical-align: top;\n",
       "    }\n",
       "\n",
       "    .dataframe thead th {\n",
       "        text-align: right;\n",
       "    }\n",
       "</style>\n",
       "<table border=\"1\" class=\"dataframe\">\n",
       "  <thead>\n",
       "    <tr style=\"text-align: right;\">\n",
       "      <th></th>\n",
       "      <th>transcript</th>\n",
       "    </tr>\n",
       "  </thead>\n",
       "  <tbody>\n",
       "    <tr>\n",
       "      <th>Ali</th>\n",
       "      <td>ladies and gentlemen please welcome to the stage ali wong  what y’all thought y’all wasn’t gon’ see me  i’m the osirus of this shit wutang is here...</td>\n",
       "    </tr>\n",
       "    <tr>\n",
       "      <th>Dave</th>\n",
       "      <td>original air date november        ladies and gentlemen  dave chappelle  thank you thank you  thank you all for being here  pretty incredible day  ...</td>\n",
       "    </tr>\n",
       "    <tr>\n",
       "      <th>Ronny</th>\n",
       "      <td>ladies and gentlemen ronny chieng   thank you thank you  thank you thank you okay thank you we gotta get going we gotta get going guys thank y...</td>\n",
       "    </tr>\n",
       "    <tr>\n",
       "      <th>Russel</th>\n",
       "      <td>narrator ladies and gentlemen it’s start time at the dome nsci svp stadium and right about now we’re going to bring you the brother that gave yo...</td>\n",
       "    </tr>\n",
       "  </tbody>\n",
       "</table>\n",
       "</div>"
      ],
      "text/plain": [
       "                                                                                                                                                   transcript\n",
       "Ali     ladies and gentlemen please welcome to the stage ali wong  what y’all thought y’all wasn’t gon’ see me  i’m the osirus of this shit wutang is here...\n",
       "Dave    original air date november        ladies and gentlemen  dave chappelle  thank you thank you  thank you all for being here  pretty incredible day  ...\n",
       "Ronny       ladies and gentlemen ronny chieng   thank you thank you  thank you thank you okay thank you we gotta get going we gotta get going guys thank y...\n",
       "Russel    narrator ladies and gentlemen it’s start time at the dome nsci svp stadium and right about now we’re going to bring you the brother that gave yo..."
      ]
     },
     "execution_count": 43,
     "metadata": {},
     "output_type": "execute_result"
    }
   ],
   "source": [
    "df_data_clean = pd.DataFrame(df_data_clean.transcript.apply(round2))\n",
    "df_data_clean"
   ]
  },
  {
   "cell_type": "code",
   "execution_count": 44,
   "metadata": {},
   "outputs": [
    {
     "data": {
      "text/html": [
       "<div>\n",
       "<style scoped>\n",
       "    .dataframe tbody tr th:only-of-type {\n",
       "        vertical-align: middle;\n",
       "    }\n",
       "\n",
       "    .dataframe tbody tr th {\n",
       "        vertical-align: top;\n",
       "    }\n",
       "\n",
       "    .dataframe thead th {\n",
       "        text-align: right;\n",
       "    }\n",
       "</style>\n",
       "<table border=\"1\" class=\"dataframe\">\n",
       "  <thead>\n",
       "    <tr style=\"text-align: right;\">\n",
       "      <th></th>\n",
       "      <th>transcript</th>\n",
       "      <th>fullname</th>\n",
       "    </tr>\n",
       "  </thead>\n",
       "  <tbody>\n",
       "    <tr>\n",
       "      <th>Ali</th>\n",
       "      <td>ladies and gentlemen please welcome to the stage ali wong  what y’all thought y’all wasn’t gon’ see me  i’m the osirus of this shit wutang is here...</td>\n",
       "      <td>Ali Wong</td>\n",
       "    </tr>\n",
       "    <tr>\n",
       "      <th>Dave</th>\n",
       "      <td>original air date november        ladies and gentlemen  dave chappelle  thank you thank you  thank you all for being here  pretty incredible day  ...</td>\n",
       "      <td>Dave Johns</td>\n",
       "    </tr>\n",
       "    <tr>\n",
       "      <th>Ronny</th>\n",
       "      <td>ladies and gentlemen ronny chieng   thank you thank you  thank you thank you okay thank you we gotta get going we gotta get going guys thank y...</td>\n",
       "      <td>Ronny Belford</td>\n",
       "    </tr>\n",
       "    <tr>\n",
       "      <th>Russel</th>\n",
       "      <td>narrator ladies and gentlemen it’s start time at the dome nsci svp stadium and right about now we’re going to bring you the brother that gave yo...</td>\n",
       "      <td>Russel Raise</td>\n",
       "    </tr>\n",
       "  </tbody>\n",
       "</table>\n",
       "</div>"
      ],
      "text/plain": [
       "                                                                                                                                                   transcript  \\\n",
       "Ali     ladies and gentlemen please welcome to the stage ali wong  what y’all thought y’all wasn’t gon’ see me  i’m the osirus of this shit wutang is here...   \n",
       "Dave    original air date november        ladies and gentlemen  dave chappelle  thank you thank you  thank you all for being here  pretty incredible day  ...   \n",
       "Ronny       ladies and gentlemen ronny chieng   thank you thank you  thank you thank you okay thank you we gotta get going we gotta get going guys thank y...   \n",
       "Russel    narrator ladies and gentlemen it’s start time at the dome nsci svp stadium and right about now we’re going to bring you the brother that gave yo...   \n",
       "\n",
       "             fullname  \n",
       "Ali          Ali Wong  \n",
       "Dave       Dave Johns  \n",
       "Ronny   Ronny Belford  \n",
       "Russel   Russel Raise  "
      ]
     },
     "execution_count": 44,
     "metadata": {},
     "output_type": "execute_result"
    }
   ],
   "source": [
    "# insert new column  with the fullname\n",
    "full_name = ['Ali Wong','Dave Johns','Ronny Belford', 'Russel Raise']\n",
    "df_data_clean['fullname'] = full_name\n",
    "df_data_clean"
   ]
  },
  {
   "cell_type": "code",
   "execution_count": 45,
   "metadata": {},
   "outputs": [
    {
     "data": {
      "text/html": [
       "<div>\n",
       "<style scoped>\n",
       "    .dataframe tbody tr th:only-of-type {\n",
       "        vertical-align: middle;\n",
       "    }\n",
       "\n",
       "    .dataframe tbody tr th {\n",
       "        vertical-align: top;\n",
       "    }\n",
       "\n",
       "    .dataframe thead th {\n",
       "        text-align: right;\n",
       "    }\n",
       "</style>\n",
       "<table border=\"1\" class=\"dataframe\">\n",
       "  <thead>\n",
       "    <tr style=\"text-align: right;\">\n",
       "      <th></th>\n",
       "      <th>transcript</th>\n",
       "    </tr>\n",
       "  </thead>\n",
       "  <tbody>\n",
       "    <tr>\n",
       "      <th>Ali</th>\n",
       "      <td>Ladies and gentlemen, please welcome to the stage Ali Wong! ♪ What y’all thought Y’all wasn’t gon’ see me? ♪\\n♪ I’m the Osirus of this shit♪\\n♪ Wu...</td>\n",
       "    </tr>\n",
       "    <tr>\n",
       "      <th>Dave</th>\n",
       "      <td>Original air date: November 07, 2020     [Announcer] Ladies and gentlemen — Dave Chappelle! [Cheers and applause] Thank you. Thank you. [Cheers an...</td>\n",
       "    </tr>\n",
       "    <tr>\n",
       "      <th>Ronny</th>\n",
       "      <td>[“The Evening Primrose (Ye Lai Xiang)” by Li Xianglan plays] [woman singing in Chinese] [audience applauds and cheers] [female host] Ladies and ge...</td>\n",
       "    </tr>\n",
       "    <tr>\n",
       "      <th>Russel</th>\n",
       "      <td>[TYPING] [CHEERING] NARRATOR: Ladies and gentlemen, it’s start time at the Dome NSCI SVP Stadium. And right about now, we’re going to bring you th...</td>\n",
       "    </tr>\n",
       "  </tbody>\n",
       "</table>\n",
       "</div>"
      ],
      "text/plain": [
       "                                                                                                                                                   transcript\n",
       "Ali     Ladies and gentlemen, please welcome to the stage Ali Wong! ♪ What y’all thought Y’all wasn’t gon’ see me? ♪\\n♪ I’m the Osirus of this shit♪\\n♪ Wu...\n",
       "Dave    Original air date: November 07, 2020     [Announcer] Ladies and gentlemen — Dave Chappelle! [Cheers and applause] Thank you. Thank you. [Cheers an...\n",
       "Ronny   [“The Evening Primrose (Ye Lai Xiang)” by Li Xianglan plays] [woman singing in Chinese] [audience applauds and cheers] [female host] Ladies and ge...\n",
       "Russel  [TYPING] [CHEERING] NARRATOR: Ladies and gentlemen, it’s start time at the Dome NSCI SVP Stadium. And right about now, we’re going to bring you th..."
      ]
     },
     "execution_count": 45,
     "metadata": {},
     "output_type": "execute_result"
    }
   ],
   "source": [
    "# Pickling” is the process whereby a Python object hierarchy is converted into a byte stream, \n",
    "# and “unpickling” is the inverse operation, whereby a byte stream (from a binary file or bytes-like object) \n",
    "# is converted back into an object hierarchy.\n",
    "df.to_pickle(\"files\\\\corpus.pkl\") # all transcript original\n",
    "df"
   ]
  },
  {
   "cell_type": "code",
   "execution_count": 46,
   "metadata": {},
   "outputs": [
    {
     "data": {
      "text/html": [
       "<div>\n",
       "<style scoped>\n",
       "    .dataframe tbody tr th:only-of-type {\n",
       "        vertical-align: middle;\n",
       "    }\n",
       "\n",
       "    .dataframe tbody tr th {\n",
       "        vertical-align: top;\n",
       "    }\n",
       "\n",
       "    .dataframe thead th {\n",
       "        text-align: right;\n",
       "    }\n",
       "</style>\n",
       "<table border=\"1\" class=\"dataframe\">\n",
       "  <thead>\n",
       "    <tr style=\"text-align: right;\">\n",
       "      <th></th>\n",
       "      <th>able</th>\n",
       "      <th>absolutely</th>\n",
       "      <th>absorb</th>\n",
       "      <th>abuela</th>\n",
       "      <th>abundance</th>\n",
       "      <th>abuse</th>\n",
       "      <th>accent</th>\n",
       "      <th>accept</th>\n",
       "      <th>acceptable</th>\n",
       "      <th>access</th>\n",
       "      <th>...</th>\n",
       "      <th>york</th>\n",
       "      <th>young</th>\n",
       "      <th>younger</th>\n",
       "      <th>zero</th>\n",
       "      <th>zhong</th>\n",
       "      <th>zipped</th>\n",
       "      <th>zodiac</th>\n",
       "      <th>zone</th>\n",
       "      <th>zones</th>\n",
       "      <th>zoom</th>\n",
       "    </tr>\n",
       "  </thead>\n",
       "  <tbody>\n",
       "    <tr>\n",
       "      <th>Ali</th>\n",
       "      <td>0</td>\n",
       "      <td>0</td>\n",
       "      <td>1</td>\n",
       "      <td>1</td>\n",
       "      <td>0</td>\n",
       "      <td>0</td>\n",
       "      <td>0</td>\n",
       "      <td>1</td>\n",
       "      <td>1</td>\n",
       "      <td>0</td>\n",
       "      <td>...</td>\n",
       "      <td>0</td>\n",
       "      <td>3</td>\n",
       "      <td>1</td>\n",
       "      <td>2</td>\n",
       "      <td>0</td>\n",
       "      <td>0</td>\n",
       "      <td>0</td>\n",
       "      <td>1</td>\n",
       "      <td>0</td>\n",
       "      <td>0</td>\n",
       "    </tr>\n",
       "    <tr>\n",
       "      <th>Dave</th>\n",
       "      <td>0</td>\n",
       "      <td>0</td>\n",
       "      <td>0</td>\n",
       "      <td>0</td>\n",
       "      <td>0</td>\n",
       "      <td>0</td>\n",
       "      <td>2</td>\n",
       "      <td>0</td>\n",
       "      <td>0</td>\n",
       "      <td>0</td>\n",
       "      <td>...</td>\n",
       "      <td>2</td>\n",
       "      <td>2</td>\n",
       "      <td>0</td>\n",
       "      <td>0</td>\n",
       "      <td>0</td>\n",
       "      <td>0</td>\n",
       "      <td>0</td>\n",
       "      <td>0</td>\n",
       "      <td>0</td>\n",
       "      <td>2</td>\n",
       "    </tr>\n",
       "    <tr>\n",
       "      <th>Ronny</th>\n",
       "      <td>0</td>\n",
       "      <td>0</td>\n",
       "      <td>0</td>\n",
       "      <td>0</td>\n",
       "      <td>3</td>\n",
       "      <td>0</td>\n",
       "      <td>0</td>\n",
       "      <td>1</td>\n",
       "      <td>0</td>\n",
       "      <td>0</td>\n",
       "      <td>...</td>\n",
       "      <td>22</td>\n",
       "      <td>0</td>\n",
       "      <td>0</td>\n",
       "      <td>1</td>\n",
       "      <td>1</td>\n",
       "      <td>1</td>\n",
       "      <td>0</td>\n",
       "      <td>1</td>\n",
       "      <td>1</td>\n",
       "      <td>0</td>\n",
       "    </tr>\n",
       "    <tr>\n",
       "      <th>Russel</th>\n",
       "      <td>4</td>\n",
       "      <td>1</td>\n",
       "      <td>0</td>\n",
       "      <td>0</td>\n",
       "      <td>0</td>\n",
       "      <td>1</td>\n",
       "      <td>0</td>\n",
       "      <td>1</td>\n",
       "      <td>0</td>\n",
       "      <td>1</td>\n",
       "      <td>...</td>\n",
       "      <td>0</td>\n",
       "      <td>1</td>\n",
       "      <td>2</td>\n",
       "      <td>0</td>\n",
       "      <td>0</td>\n",
       "      <td>0</td>\n",
       "      <td>1</td>\n",
       "      <td>0</td>\n",
       "      <td>0</td>\n",
       "      <td>0</td>\n",
       "    </tr>\n",
       "  </tbody>\n",
       "</table>\n",
       "<p>4 rows × 3176 columns</p>\n",
       "</div>"
      ],
      "text/plain": [
       "        able  absolutely  absorb  abuela  abundance  abuse  accent  accept  \\\n",
       "Ali        0           0       1       1          0      0       0       1   \n",
       "Dave       0           0       0       0          0      0       2       0   \n",
       "Ronny      0           0       0       0          3      0       0       1   \n",
       "Russel     4           1       0       0          0      1       0       1   \n",
       "\n",
       "        acceptable  access  ...  york  young  younger  zero  zhong  zipped  \\\n",
       "Ali              1       0  ...     0      3        1     2      0       0   \n",
       "Dave             0       0  ...     2      2        0     0      0       0   \n",
       "Ronny            0       0  ...    22      0        0     1      1       1   \n",
       "Russel           0       1  ...     0      1        2     0      0       0   \n",
       "\n",
       "        zodiac  zone  zones  zoom  \n",
       "Ali          0     1      0     0  \n",
       "Dave         0     0      0     2  \n",
       "Ronny        0     1      1     0  \n",
       "Russel       1     0      0     0  \n",
       "\n",
       "[4 rows x 3176 columns]"
      ]
     },
     "execution_count": 46,
     "metadata": {},
     "output_type": "execute_result"
    }
   ],
   "source": [
    "# now we are going to create a document matrix using CountVectorizer, and exclude stopwords\n",
    "from sklearn.feature_extraction.text import CountVectorizer\n",
    "\n",
    "cv = CountVectorizer(stop_words='english') # stopwords using language English\n",
    "data_cv = cv.fit_transform(df_data_clean.transcript)  # apply into column transcript\n",
    "data_dtm = pd.DataFrame(data_cv.toarray(),columns=cv.get_feature_names()) # create another df with the words and frequency\n",
    "data_dtm.index = df_data_clean.index # use the index from df \n",
    "data_dtm"
   ]
  },
  {
   "cell_type": "code",
   "execution_count": 47,
   "metadata": {},
   "outputs": [],
   "source": [
    "# Lets pickle it for later use\n",
    "data_dtm.to_pickle(\"files\\\\dtm.pkl\")"
   ]
  },
  {
   "cell_type": "code",
   "execution_count": 48,
   "metadata": {},
   "outputs": [],
   "source": [
    "# lets pickle the cleaned data as well\n",
    "df_data_clean.to_pickle(\"files\\\\data_clean.pkl\")\n",
    "pickle.dump(cv,open(\"files\\\\cv.pkl\",\"wb\"))"
   ]
  },
  {
   "cell_type": "markdown",
   "metadata": {},
   "source": [
    "# Now the second step ..."
   ]
  }
 ],
 "metadata": {
  "kernelspec": {
   "display_name": "Python 3",
   "language": "python",
   "name": "python3"
  },
  "language_info": {
   "codemirror_mode": {
    "name": "ipython",
    "version": 3
   },
   "file_extension": ".py",
   "mimetype": "text/x-python",
   "name": "python",
   "nbconvert_exporter": "python",
   "pygments_lexer": "ipython3",
   "version": "3.7.9"
  }
 },
 "nbformat": 4,
 "nbformat_minor": 4
}
